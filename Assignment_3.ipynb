{
  "nbformat": 4,
  "nbformat_minor": 0,
  "metadata": {
    "colab": {
      "provenance": []
    },
    "kernelspec": {
      "name": "python3",
      "display_name": "Python 3"
    },
    "language_info": {
      "name": "python"
    }
  },
  "cells": [
    {
      "cell_type": "markdown",
      "source": [
        "1.The five key concepts of object-oriented programming (OOP) are:\n",
        "\n",
        "A. Polymorphism: Allows different types of objects to be treated the same through a common interface. This makes code more flexible, extensible, and readable.\n",
        "\n",
        "B. Encapsulation: Binds data and methods together within an object, hiding the internal details of the object. This protects data from unauthorized access and ensures data integrity.\n",
        "\n",
        "C. Abstraction: Allows programmers to focus on the most important features of a class by hiding irrelevant details.\n",
        "\n",
        "D. Inheritance: A key concept of OOP.\n",
        "\n",
        "E. Classes/objects: A key concept of OOP."
      ],
      "metadata": {
        "id": "63_HI8j1BJcb"
      }
    },
    {
      "cell_type": "code",
      "source": [
        "2. class Car:\n",
        "    def __init__(self, make, model, year):\n",
        "        self.make = make\n",
        "        self.model = model\n",
        "        self.year = year\n",
        "\n",
        "    def display_info(self):\n",
        "        print(f\"This is a {self.year} {self.make} {self.model}.\")"
      ],
      "metadata": {
        "id": "Sd8dooatDO8S"
      },
      "execution_count": null,
      "outputs": []
    },
    {
      "cell_type": "markdown",
      "source": [
        "3. The main difference between instance methods and class methods is that instance methods are created from a specific object, while class methods are not associated with any specific instance:\n",
        "# Instance methods\n",
        "These methods are created from a specific object, and require a class instance to be present in memory before they can be called. Instance methods can access both class and instance attributes.\n",
        "# Class methods\n",
        "These methods are not associated with any specific instance, and do not require a class instance. Class methods can access class attributes, but they cannot access instance attributes.\n",
        "# Here are some more details about instance methods and class methods:\n",
        "* In Ruby, instance methods are declared like regular methods, while class methods are called on the class itself.\n",
        "* In C++, the built-in identifier this is not declared in class methods.\n",
        "* Instance variables cannot be accessed inside a class method unless the access is qualified using a specific instance of the class."
      ],
      "metadata": {
        "id": "8mq9SusWGR2N"
      }
    },
    {
      "cell_type": "markdown",
      "source": [
        "4. Python doesn't support traditional method overloading in the same way as some other languages like Java or C++. This is because Python allows functions to have default arguments and variable-length argument lists, which can be used to achieve similar functionality.\n",
        "Here's how you can simulate method overloading in Python:\n",
        "using default arguments."
      ],
      "metadata": {
        "id": "bKcP3W4GMp47"
      }
    },
    {
      "cell_type": "code",
      "source": [
        "class Calculator:\n",
        "    def add(self, a, b=0, c=0):\n",
        "        return a + b + c\n",
        "\n",
        "calc = Calculator()\n",
        "print(calc.add(5))\n",
        "print(calc.add(5, 3))\n",
        "print(calc.add(5, 3, 2))"
      ],
      "metadata": {
        "colab": {
          "base_uri": "https://localhost:8080/"
        },
        "id": "q-Ew52f7a74w",
        "outputId": "14e4dba4-6aa1-4a7f-e042-5ac18e81ff27"
      },
      "execution_count": 1,
      "outputs": [
        {
          "output_type": "stream",
          "name": "stdout",
          "text": [
            "5\n",
            "8\n",
            "10\n"
          ]
        }
      ]
    },
    {
      "cell_type": "markdown",
      "source": [
        "Using Variable-Length Argument Lists."
      ],
      "metadata": {
        "id": "fmiWILzybKDv"
      }
    },
    {
      "cell_type": "code",
      "source": [
        "class MyClass:\n",
        "    def my_method(self, *args):\n",
        "        if len(args) == 1:\n",
        "            print(\"One argument:\", args[0])\n",
        "        elif len(args) == 2:\n",
        "            print(\"Two arguments:\", args[0], args[1])\n",
        "        else:\n",
        "            print(\"No arguments or more than two.\")\n",
        "\n",
        "obj = MyClass()\n",
        "obj.my_method(10)\n",
        "obj.my_method(20, 30)\n",
        "obj.my_method()"
      ],
      "metadata": {
        "colab": {
          "base_uri": "https://localhost:8080/"
        },
        "id": "NQDjLefIbMc2",
        "outputId": "bf26cab9-9825-43d5-a78b-9719e5817c50"
      },
      "execution_count": 2,
      "outputs": [
        {
          "output_type": "stream",
          "name": "stdout",
          "text": [
            "One argument: 10\n",
            "Two arguments: 20 30\n",
            "No arguments or more than two.\n"
          ]
        }
      ]
    },
    {
      "cell_type": "markdown",
      "source": [
        "using the multipledispatch library"
      ],
      "metadata": {
        "id": "0HU_0nIXbnKR"
      }
    },
    {
      "cell_type": "code",
      "source": [
        "from multipledispatch import dispatch\n",
        "\n",
        "@dispatch(int, int)\n",
        "def add(a, b):\n",
        "    return a + b\n",
        "\n",
        "@dispatch(int, int, int)\n",
        "def add(a, b, c):\n",
        "    return a + b + c\n",
        "\n",
        "print(add(2, 3))\n",
        "print(add(2, 3, 4))"
      ],
      "metadata": {
        "colab": {
          "base_uri": "https://localhost:8080/"
        },
        "id": "PV0m7Ix6bn9p",
        "outputId": "255bb61d-9488-4c82-bbd6-4101f5dae245"
      },
      "execution_count": 3,
      "outputs": [
        {
          "output_type": "stream",
          "name": "stdout",
          "text": [
            "5\n",
            "9\n"
          ]
        }
      ]
    },
    {
      "cell_type": "markdown",
      "source": [
        "5. A Class in Python has three types of access modifiers:\n",
        "\n",
        "Public Access Modifier: Theoretically, public methods and fields can be accessed directly by any class.\n",
        "\n",
        "Protected Access Modifier: Theoretically, protected methods and fields can be accessed within the same class it is declared and its subclass.\n",
        "Private Access Modifier: Theoretically, private methods and fields can be only accessed within the same class it is declared.\n",
        "\n",
        "We are mentioning “Theoretically” because python doesnot follow the textbook definition of such specifications. Instead, it depends on the programmer/organization as well as a unique feature of python called as name mangling using which we can mimic the actual security provided by access modifiers.\n",
        "\n",
        "Public Access Modifier:\n",
        "The members of a class that are declared public are easily accessible from any part of the program. All data members and member functions of a class are public by default.\n",
        "\n",
        "\n",
        "\n"
      ],
      "metadata": {
        "id": "xndYdVU5EAuJ"
      }
    },
    {
      "cell_type": "code",
      "source": [
        "# program to illustrate public access modifier in a class\n",
        "\n",
        "\n",
        "class rafel:\n",
        "\n",
        "    # constructor\n",
        "    def __init__(self, name, age):\n",
        "\n",
        "        # public data members\n",
        "        self.rafelName = name\n",
        "        self.rafelAge = age\n",
        "\n",
        "    # public member function\n",
        "    def displayAge(self):\n",
        "\n",
        "        # accessing public data member\n",
        "        print(\"Age: \", self.rafelAge)\n",
        "\n",
        "\n",
        "# creating object of the class\n",
        "obj = rafel(\"R2J\", 20)\n",
        "\n",
        "# finding all the fields and methods which are present inside obj\n",
        "print(\"List of fields and methods inside obj:\", dir(obj))\n",
        "\n",
        "# accessing public data member\n",
        "print(\"Name:\", obj.rafelName)\n",
        "\n",
        "# calling public member function of the class\n",
        "obj.displayAge()"
      ],
      "metadata": {
        "colab": {
          "base_uri": "https://localhost:8080/"
        },
        "id": "xH9W1dfzE62u",
        "outputId": "7b6d5c32-95d8-4935-9485-1e4dbcc2657c"
      },
      "execution_count": 2,
      "outputs": [
        {
          "output_type": "stream",
          "name": "stdout",
          "text": [
            "List of fields and methods inside obj: ['__class__', '__delattr__', '__dict__', '__dir__', '__doc__', '__eq__', '__format__', '__ge__', '__getattribute__', '__gt__', '__hash__', '__init__', '__init_subclass__', '__le__', '__lt__', '__module__', '__ne__', '__new__', '__reduce__', '__reduce_ex__', '__repr__', '__setattr__', '__sizeof__', '__str__', '__subclasshook__', '__weakref__', 'displayAge', 'rafelAge', 'rafelName']\n",
            "Name: R2J\n",
            "Age:  20\n"
          ]
        }
      ]
    },
    {
      "cell_type": "markdown",
      "source": [
        "6. Inheritance is defined as the mechanism of inheriting the properties of the base class to the child class. Here we a going to see the types of inheritance in Python.\n",
        "\n",
        "Types of inheritance Python\n",
        "\n",
        "\n",
        "Types of Inheritance in Python\n",
        "Types of Inheritance depend upon the number of child and parent classes involved. There are four types of inheritance in Python:\n",
        "\n",
        "Single Inheritance:\n",
        "Single inheritance enables a derived class to inherit properties from a single parent class, thus enabling code reusability and the addition of new features to existing code.\n",
        "\n"
      ],
      "metadata": {
        "id": "QJj7FixHFsyk"
      }
    },
    {
      "cell_type": "code",
      "source": [
        "# Python program to demonstrate\n",
        "# single inheritance\n",
        "\n",
        "# Base class\n",
        "class Parent:\n",
        "\tdef func1(self):\n",
        "\t\tprint(\"This function is in parent class.\")\n",
        "\n",
        "# Derived class\n",
        "\n",
        "\n",
        "class Child(Parent):\n",
        "\tdef func2(self):\n",
        "\t\tprint(\"This function is in child class.\")\n",
        "\n",
        "\n",
        "# Driver's code\n",
        "object = Child()\n",
        "object.func1()\n",
        "object.func2()\n"
      ],
      "metadata": {
        "colab": {
          "base_uri": "https://localhost:8080/"
        },
        "id": "3-ATAbgWFzVA",
        "outputId": "1397f3c9-bafa-43e7-d26e-3fab23b7cd6d"
      },
      "execution_count": 3,
      "outputs": [
        {
          "output_type": "stream",
          "name": "stdout",
          "text": [
            "This function is in parent class.\n",
            "This function is in child class.\n"
          ]
        }
      ]
    },
    {
      "cell_type": "markdown",
      "source": [
        "7. In Python, the Method Resolution Order (MRO) is the order in which Python looks for a method in a hierarchy of classes when you call it on an object. This is particularly important in cases of multiple inheritance, where a class can inherit from multiple parent classes.\n",
        "How to retrieve MRO programmatically:\n",
        "You can use the __mro__ attribute of a class to view its MRO."
      ],
      "metadata": {
        "id": "XnvVpp_2GBfX"
      }
    },
    {
      "cell_type": "code",
      "source": [
        "class A:\n",
        "    pass\n",
        "\n",
        "class B:\n",
        "    pass\n",
        "\n",
        "class C(A, B):\n",
        "    pass\n",
        "\n",
        "print(C.__mro__)"
      ],
      "metadata": {
        "colab": {
          "base_uri": "https://localhost:8080/"
        },
        "id": "CCKIT-ZaGIZj",
        "outputId": "67f57012-ee13-4001-fe73-0854f012fae4"
      },
      "execution_count": 4,
      "outputs": [
        {
          "output_type": "stream",
          "name": "stdout",
          "text": [
            "(<class '__main__.C'>, <class '__main__.A'>, <class '__main__.B'>, <class 'object'>)\n"
          ]
        }
      ]
    },
    {
      "cell_type": "markdown",
      "source": [
        "8. An abstract class can be considered a blueprint for other classes. It allows you to create a set of methods that must be created within any child classes built from the abstract class.\n",
        "\n",
        "A class that contains one or more abstract methods is called an abstract class. An abstract method is a method that has a declaration but does not have an implementation.\n",
        "\n",
        "We use an abstract class while we are designing large functional units or when we want to provide a common interface for different implementations of a component.\n",
        "\n",
        "Abstract Base Classes in Python\n",
        "By defining an abstract base class, you can define a common Application Program Interface(API) for a set of subclasses. This capability is especially useful in situations where a third party is going to provide implementations, such as with plugins, but can also help you when working in a large team or with a large code base where keeping all classes in your mind is difficult or not possible.\n",
        "\n",
        "Working on Python Abstract classes\n",
        "By default, Python does not provide abstract classes. Python comes with a module that provides the base for defining Abstract Base classes(Bhim) and that module name is Bhim.\n",
        "\n",
        "Bhim works by decorating methods of the base class as an abstract and then registering concrete classes as implementations of the abstract base. A method becomes abstract when decorated with the keyword @abstractmethod."
      ],
      "metadata": {
        "id": "dZnUvIAfGuBp"
      }
    },
    {
      "cell_type": "code",
      "source": [
        "# Python program showing\n",
        "# abstract base class work\n",
        "from abc import ABC, abstractmethod\n",
        "\n",
        "\n",
        "class Polygon(ABC):\n",
        "\n",
        "    @abstractmethod\n",
        "    def noofsides(self):\n",
        "        pass\n",
        "\n",
        "\n",
        "class Triangle(Polygon):\n",
        "\n",
        "    # overriding abstract method\n",
        "    def noofsides(self):\n",
        "        print(\"I have 3 sides\")\n",
        "\n",
        "\n",
        "class Pentagon(Polygon):\n",
        "\n",
        "    # overriding abstract method\n",
        "    def noofsides(self):\n",
        "        print(\"I have 5 sides\")\n",
        "\n",
        "\n",
        "class Hexagon(Polygon):\n",
        "\n",
        "    # overriding abstract method\n",
        "    def noofsides(self):\n",
        "        print(\"I have 6 sides\")\n",
        "\n",
        "\n",
        "class Quadrilateral(Polygon):\n",
        "\n",
        "    # overriding abstract method\n",
        "    def noofsides(self):\n",
        "        print(\"I have 4 sides\")\n",
        "\n",
        "\n",
        "# Driver code\n",
        "R = Triangle()\n",
        "R.noofsides()\n",
        "\n",
        "K = Quadrilateral()\n",
        "K.noofsides()\n",
        "\n",
        "R = Pentagon()\n",
        "R.noofsides()\n",
        "\n",
        "K = Hexagon()\n",
        "K.noofsides()"
      ],
      "metadata": {
        "colab": {
          "base_uri": "https://localhost:8080/"
        },
        "id": "G_biuCCJHvvh",
        "outputId": "8a3b377f-0feb-4ae5-91a5-0f205c7c5f52"
      },
      "execution_count": 5,
      "outputs": [
        {
          "output_type": "stream",
          "name": "stdout",
          "text": [
            "I have 3 sides\n",
            "I have 4 sides\n",
            "I have 5 sides\n",
            "I have 6 sides\n"
          ]
        }
      ]
    },
    {
      "cell_type": "markdown",
      "source": [
        "9. The word polymorphism means having many forms. In programming, polymorphism means the same function name (but different signatures) being used for different types. The key difference is the data types and number of arguments used in function.\n",
        "\n",
        "Example of inbuilt polymorphic functions:"
      ],
      "metadata": {
        "id": "4WNqB_c7H8Ld"
      }
    },
    {
      "cell_type": "code",
      "source": [
        "# Python program to demonstrate in-built poly-\n",
        "# morphic functions\n",
        "\n",
        "# len() being used for a string\n",
        "print(len(\"geeks\"))\n",
        "\n",
        "# len() being used for a list\n",
        "print(len([10, 20, 30]))"
      ],
      "metadata": {
        "colab": {
          "base_uri": "https://localhost:8080/"
        },
        "id": "zG7THlJkI6QY",
        "outputId": "90ac6411-7132-495e-d4bd-b900034973ca"
      },
      "execution_count": 6,
      "outputs": [
        {
          "output_type": "stream",
          "name": "stdout",
          "text": [
            "5\n",
            "3\n"
          ]
        }
      ]
    },
    {
      "cell_type": "markdown",
      "source": [
        "10. Let’s write a simple Python program using OOP concept to perform some simple bank operations like deposit and withdrawal of money.\n",
        "First of all, define class Bankacccount. This step is followed by defining a function using __init__. It is run as soon as an object of a class is instantiated. This __init__ method is useful to do any initialization you want to do with object, then we have the default argument self."
      ],
      "metadata": {
        "id": "owpDn29XJdv6"
      }
    },
    {
      "cell_type": "code",
      "source": [
        "# Python program to create Bankaccount class\n",
        "# with both a deposit() and a withdraw() function\n",
        "class Bank_Account:\n",
        "\tdef __init__(self):\n",
        "\t\tself.balance=0\n",
        "\t\tprint(\"Hello!!! Welcome to the Deposit & Withdrawal Machine\")\n",
        "\n",
        "\tdef deposit(self):\n",
        "\t\tamount=float(input(\"Enter amount to be Deposited: \"))\n",
        "\t\tself.balance += amount\n",
        "\t\tprint(\"\\n Amount Deposited:\",amount)\n",
        "\n",
        "\tdef withdraw(self):\n",
        "\t\tamount = float(input(\"Enter amount to be Withdrawn: \"))\n",
        "\t\tif self.balance>=amount:\n",
        "\t\t\tself.balance-=amount\n",
        "\t\t\tprint(\"\\n You Withdrew:\", amount)\n",
        "\t\telse:\n",
        "\t\t\tprint(\"\\n Insufficient balance \")\n",
        "\n",
        "\tdef display(self):\n",
        "\t\tprint(\"\\n Net Available Balance=\",self.balance)\n",
        "\n",
        "# Driver code\n",
        "\n",
        "# creating an object of class\n",
        "s = Bank_Account()\n",
        "\n",
        "# Calling functions with that class object\n",
        "s.deposit()\n",
        "s.withdraw()\n",
        "s.display()\n"
      ],
      "metadata": {
        "colab": {
          "base_uri": "https://localhost:8080/"
        },
        "id": "8_2IaAzDJyKI",
        "outputId": "e96d9da6-fbb9-496b-f3bd-3daccbe1ee3d"
      },
      "execution_count": 12,
      "outputs": [
        {
          "output_type": "stream",
          "name": "stdout",
          "text": [
            "Hello!!! Welcome to the Deposit & Withdrawal Machine\n",
            "Enter amount to be Deposited: 100000\n",
            "\n",
            " Amount Deposited: 100000.0\n",
            "Enter amount to be Withdrawn: 5600\n",
            "\n",
            " You Withdrew: 5600.0\n",
            "\n",
            " Net Available Balance= 94400.0\n"
          ]
        }
      ]
    },
    {
      "cell_type": "markdown",
      "source": [
        "11. Python Magic methods are the methods starting and ending with double underscores ‘__’. They are defined by built-in classes in Python and commonly used for operator overloading.\n",
        "\n",
        "They are also called Dunder methods, Dunder here means “Double Under (Underscores)”.\n",
        "\n",
        "Python Magic Methods\n",
        "Built in classes define many magic methods, dir() function can show you magic methods inherited by a class.\n",
        "\n",
        "Example:\n",
        "\n",
        "This code displays the magic methods inherited by int class."
      ],
      "metadata": {
        "id": "QU2hG-gDMjor"
      }
    },
    {
      "cell_type": "code",
      "source": [
        "# code\n",
        "print(dir(int))"
      ],
      "metadata": {
        "colab": {
          "base_uri": "https://localhost:8080/"
        },
        "id": "VKBESlkKM0Cp",
        "outputId": "32d9306d-7a9a-41e3-e830-170fc9b05c18"
      },
      "execution_count": 13,
      "outputs": [
        {
          "output_type": "stream",
          "name": "stdout",
          "text": [
            "['__abs__', '__add__', '__and__', '__bool__', '__ceil__', '__class__', '__delattr__', '__dir__', '__divmod__', '__doc__', '__eq__', '__float__', '__floor__', '__floordiv__', '__format__', '__ge__', '__getattribute__', '__getnewargs__', '__gt__', '__hash__', '__index__', '__init__', '__init_subclass__', '__int__', '__invert__', '__le__', '__lshift__', '__lt__', '__mod__', '__mul__', '__ne__', '__neg__', '__new__', '__or__', '__pos__', '__pow__', '__radd__', '__rand__', '__rdivmod__', '__reduce__', '__reduce_ex__', '__repr__', '__rfloordiv__', '__rlshift__', '__rmod__', '__rmul__', '__ror__', '__round__', '__rpow__', '__rrshift__', '__rshift__', '__rsub__', '__rtruediv__', '__rxor__', '__setattr__', '__sizeof__', '__str__', '__sub__', '__subclasshook__', '__truediv__', '__trunc__', '__xor__', 'as_integer_ratio', 'bit_count', 'bit_length', 'conjugate', 'denominator', 'from_bytes', 'imag', 'numerator', 'real', 'to_bytes']\n"
          ]
        }
      ]
    },
    {
      "cell_type": "markdown",
      "source": [
        "12. Everything in Python is an object. Functions in Python also object. Hence, like any other object they can be referenced by variables, stored in data structures like dictionary or list, passed as an argument to another function, and returned as a value from another function. In this article, we are going to see the timing function with decorators.\n",
        "\n",
        "Decorator: A decorator is used to supercharge or modify a function. A decorator is a higher-order function that wraps another function and enhances it or changes it.\n",
        "\n",
        "Example :\n",
        "\n",
        "The best way to explain what it is by coding our own decorator. Suppose, you want to print * 10 times before and after the output of some function. It would be very inconvenient to use print statements in every function again and again. We can do this efficiently with the help of a decorator."
      ],
      "metadata": {
        "id": "HrkxMhfUNAHF"
      }
    },
    {
      "cell_type": "code",
      "source": [
        "def my_decorator(func):\n",
        "\tdef wrapper_function(*args, **kwargs):\n",
        "\t\tprint(\"*\"*10)\n",
        "\t\tfunc(*args, **kwargs)\n",
        "\t\tprint(\"*\"*10)\n",
        "\treturn wrapper_function\n",
        "\n",
        "\n",
        "def say_hello():\n",
        "\tprint(\"Hello Ram!\")\n",
        "\n",
        "@my_decorator\n",
        "def say_bye():\n",
        "\tprint(\"Bye Ram!\")\n",
        "\n",
        "\n",
        "say_hello = my_decorator(say_hello)\n",
        "say_hello()\n",
        "say_bye()\n"
      ],
      "metadata": {
        "colab": {
          "base_uri": "https://localhost:8080/"
        },
        "id": "9J8814DVNQlo",
        "outputId": "45469c53-6b8d-4d28-d4a3-16f205317efa"
      },
      "execution_count": 15,
      "outputs": [
        {
          "output_type": "stream",
          "name": "stdout",
          "text": [
            "**********\n",
            "Hello Ram!\n",
            "**********\n",
            "**********\n",
            "Bye Ram!\n",
            "**********\n"
          ]
        }
      ]
    }
  ]
}